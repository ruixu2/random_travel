{
 "cells": [
  {
   "cell_type": "code",
   "execution_count": 1,
   "id": "initial_id",
   "metadata": {
    "collapsed": true,
    "ExecuteTime": {
     "end_time": "2024-09-18T02:33:58.039303Z",
     "start_time": "2024-09-18T02:33:57.649188Z"
    }
   },
   "outputs": [],
   "source": [
    "import geopandas as gpd\n",
    "import random\n",
    "import config"
   ]
  },
  {
   "cell_type": "code",
   "outputs": [],
   "source": [
    "gdf = gpd.read_file(config.area_file)\n",
    "minx, miny, maxx, maxy = gdf.total_bounds"
   ],
   "metadata": {
    "collapsed": false,
    "ExecuteTime": {
     "end_time": "2024-09-18T02:35:06.000355Z",
     "start_time": "2024-09-18T02:35:04.406853Z"
    }
   },
   "id": "16418c28697d584a",
   "execution_count": 8
  },
  {
   "cell_type": "code",
   "outputs": [
    {
     "ename": "TypeError",
     "evalue": "(<class 'geopandas.geoseries.GeoSeries'>, <class 'geopandas.array.GeometryArray'>)",
     "output_type": "error",
     "traceback": [
      "\u001B[1;31m---------------------------------------------------------------------------\u001B[0m",
      "\u001B[1;31mTypeError\u001B[0m                                 Traceback (most recent call last)",
      "Cell \u001B[1;32mIn[20], line 20\u001B[0m\n\u001B[0;32m     18\u001B[0m         \u001B[38;5;28;01mbreak\u001B[39;00m\n\u001B[0;32m     19\u001B[0m     x, y \u001B[38;5;241m=\u001B[39m random_point(minx, miny, maxx, maxy)\n\u001B[1;32m---> 20\u001B[0m     isin_flag \u001B[38;5;241m=\u001B[39m isin_area(gdf,x, y)\n\u001B[0;32m     21\u001B[0m temp \u001B[38;5;241m=\u001B[39m gpd\u001B[38;5;241m.\u001B[39mtools\u001B[38;5;241m.\u001B[39mreverse_geocode([[x, y]])\n\u001B[0;32m     22\u001B[0m temp\n",
      "Cell \u001B[1;32mIn[20], line 9\u001B[0m, in \u001B[0;36misin_area\u001B[1;34m(gdf, x, y)\u001B[0m\n\u001B[0;32m      7\u001B[0m \u001B[38;5;28;01mdef\u001B[39;00m \u001B[38;5;21misin_area\u001B[39m(gdf, x, y):\n\u001B[0;32m      8\u001B[0m     point\u001B[38;5;241m=\u001B[39mgpd\u001B[38;5;241m.\u001B[39mpoints_from_xy([x],[y])\n\u001B[1;32m----> 9\u001B[0m     \u001B[38;5;28;01mif\u001B[39;00m gdf[\u001B[38;5;124m'\u001B[39m\u001B[38;5;124mgeometry\u001B[39m\u001B[38;5;124m'\u001B[39m]\u001B[38;5;241m.\u001B[39mcontains(point):\n\u001B[0;32m     10\u001B[0m         \u001B[38;5;28mprint\u001B[39m(\u001B[38;5;124mf\u001B[39m\u001B[38;5;124m\"\u001B[39m\u001B[38;5;132;01m{\u001B[39;00mx\u001B[38;5;132;01m}\u001B[39;00m\u001B[38;5;124m, \u001B[39m\u001B[38;5;132;01m{\u001B[39;00my\u001B[38;5;132;01m}\u001B[39;00m\u001B[38;5;124m in area\u001B[39m\u001B[38;5;124m\"\u001B[39m)\n\u001B[0;32m     11\u001B[0m         \u001B[38;5;28;01mreturn\u001B[39;00m \u001B[38;5;28;01mTrue\u001B[39;00m\n",
      "File \u001B[1;32m~\\AppData\\Roaming\\Python\\Python311\\site-packages\\geopandas\\base.py:1338\u001B[0m, in \u001B[0;36mGeoPandasBase.contains\u001B[1;34m(self, other, align)\u001B[0m\n\u001B[0;32m   1225\u001B[0m \u001B[38;5;28;01mdef\u001B[39;00m \u001B[38;5;21mcontains\u001B[39m(\u001B[38;5;28mself\u001B[39m, other, align\u001B[38;5;241m=\u001B[39m\u001B[38;5;28;01mTrue\u001B[39;00m):\n\u001B[0;32m   1226\u001B[0m \u001B[38;5;250m    \u001B[39m\u001B[38;5;124;03m\"\"\"Returns a ``Series`` of ``dtype('bool')`` with value ``True`` for\u001B[39;00m\n\u001B[0;32m   1227\u001B[0m \u001B[38;5;124;03m    each aligned geometry that contains `other`.\u001B[39;00m\n\u001B[0;32m   1228\u001B[0m \n\u001B[1;32m   (...)\u001B[0m\n\u001B[0;32m   1336\u001B[0m \u001B[38;5;124;03m    GeoSeries.within\u001B[39;00m\n\u001B[0;32m   1337\u001B[0m \u001B[38;5;124;03m    \"\"\"\u001B[39;00m\n\u001B[1;32m-> 1338\u001B[0m     \u001B[38;5;28;01mreturn\u001B[39;00m _binary_op(\u001B[38;5;124m\"\u001B[39m\u001B[38;5;124mcontains\u001B[39m\u001B[38;5;124m\"\u001B[39m, \u001B[38;5;28mself\u001B[39m, other, align)\n",
      "File \u001B[1;32m~\\AppData\\Roaming\\Python\\Python311\\site-packages\\geopandas\\base.py:63\u001B[0m, in \u001B[0;36m_binary_op\u001B[1;34m(op, this, other, align, *args, **kwargs)\u001B[0m\n\u001B[0;32m     60\u001B[0m \u001B[38;5;28;01mdef\u001B[39;00m \u001B[38;5;21m_binary_op\u001B[39m(op, this, other, align, \u001B[38;5;241m*\u001B[39margs, \u001B[38;5;241m*\u001B[39m\u001B[38;5;241m*\u001B[39mkwargs):\n\u001B[0;32m     61\u001B[0m     \u001B[38;5;66;03m# type: (str, GeoSeries, GeoSeries, args/kwargs) -> Series[bool/float]\u001B[39;00m\n\u001B[0;32m     62\u001B[0m \u001B[38;5;250m    \u001B[39m\u001B[38;5;124;03m\"\"\"Binary operation on GeoSeries objects that returns a Series\"\"\"\u001B[39;00m\n\u001B[1;32m---> 63\u001B[0m     data, index \u001B[38;5;241m=\u001B[39m _delegate_binary_method(op, this, other, align, \u001B[38;5;241m*\u001B[39margs, \u001B[38;5;241m*\u001B[39m\u001B[38;5;241m*\u001B[39mkwargs)\n\u001B[0;32m     64\u001B[0m     \u001B[38;5;28;01mreturn\u001B[39;00m Series(data, index\u001B[38;5;241m=\u001B[39mindex)\n",
      "File \u001B[1;32m~\\AppData\\Roaming\\Python\\Python311\\site-packages\\geopandas\\base.py:45\u001B[0m, in \u001B[0;36m_delegate_binary_method\u001B[1;34m(op, this, other, align, *args, **kwargs)\u001B[0m\n\u001B[0;32m     43\u001B[0m     a_this \u001B[38;5;241m=\u001B[39m GeometryArray(this\u001B[38;5;241m.\u001B[39mvalues)\n\u001B[0;32m     44\u001B[0m \u001B[38;5;28;01melse\u001B[39;00m:\n\u001B[1;32m---> 45\u001B[0m     \u001B[38;5;28;01mraise\u001B[39;00m \u001B[38;5;167;01mTypeError\u001B[39;00m(\u001B[38;5;28mtype\u001B[39m(this), \u001B[38;5;28mtype\u001B[39m(other))\n\u001B[0;32m     47\u001B[0m data \u001B[38;5;241m=\u001B[39m \u001B[38;5;28mgetattr\u001B[39m(a_this, op)(other, \u001B[38;5;241m*\u001B[39margs, \u001B[38;5;241m*\u001B[39m\u001B[38;5;241m*\u001B[39mkwargs)\n\u001B[0;32m     48\u001B[0m \u001B[38;5;28;01mreturn\u001B[39;00m data, this\u001B[38;5;241m.\u001B[39mindex\n",
      "\u001B[1;31mTypeError\u001B[0m: (<class 'geopandas.geoseries.GeoSeries'>, <class 'geopandas.array.GeometryArray'>)"
     ]
    }
   ],
   "source": [
    "def random_point(minx, miny, maxx, maxy):\n",
    "    x = random.uniform(minx, maxx)\n",
    "    y = random.uniform(miny, maxy)\n",
    "    return x, y\n",
    "\n",
    "\n",
    "def isin_area(gdf, x, y):\n",
    "    point=gpd.points_from_xy([x],[y])\n",
    "    if gdf['geometry'].contains(point):\n",
    "        print(f\"{x}, {y} in area\")\n",
    "        return True\n",
    "    return False\n",
    "\n",
    "\n"
   ],
   "metadata": {
    "collapsed": false,
    "ExecuteTime": {
     "end_time": "2024-09-18T02:45:22.762140Z",
     "start_time": "2024-09-18T02:45:22.731770Z"
    }
   },
   "id": "840f6958818ff31",
   "execution_count": 20
  },
  {
   "cell_type": "code",
   "outputs": [
    {
     "name": "stdout",
     "output_type": "stream",
     "text": [
      "location,x: 763397.9979927151, y: 2565430.6833048053\n"
     ]
    },
    {
     "ename": "NameError",
     "evalue": "name 'temp' is not defined",
     "output_type": "error",
     "traceback": [
      "\u001B[1;31m---------------------------------------------------------------------------\u001B[0m",
      "\u001B[1;31mNameError\u001B[0m                                 Traceback (most recent call last)",
      "Cell \u001B[1;32mIn[6], line 2\u001B[0m\n\u001B[0;32m      1\u001B[0m \u001B[38;5;28mprint\u001B[39m(\u001B[38;5;124mf\u001B[39m\u001B[38;5;124m\"\u001B[39m\u001B[38;5;124mlocation,x: \u001B[39m\u001B[38;5;132;01m{\u001B[39;00mx\u001B[38;5;132;01m}\u001B[39;00m\u001B[38;5;124m, y: \u001B[39m\u001B[38;5;132;01m{\u001B[39;00my\u001B[38;5;132;01m}\u001B[39;00m\u001B[38;5;124m\"\u001B[39m)\n\u001B[1;32m----> 2\u001B[0m \u001B[38;5;28mprint\u001B[39m(\u001B[38;5;124mf\u001B[39m\u001B[38;5;124m\"\u001B[39m\u001B[38;5;124maddress: \u001B[39m\u001B[38;5;132;01m{\u001B[39;00mtemp\u001B[38;5;241m.\u001B[39mloc[\u001B[38;5;241m0\u001B[39m,\u001B[38;5;250m \u001B[39m\u001B[38;5;124m'\u001B[39m\u001B[38;5;124maddress\u001B[39m\u001B[38;5;124m'\u001B[39m]\u001B[38;5;132;01m}\u001B[39;00m\u001B[38;5;124m\"\u001B[39m)\n",
      "\u001B[1;31mNameError\u001B[0m: name 'temp' is not defined"
     ]
    }
   ],
   "source": [
    "isin_flag = False\n",
    "while 1:\n",
    "    if isin_flag:\n",
    "        break\n",
    "    x, y = random_point(minx, miny, maxx, maxy)\n",
    "    isin_flag = isin_area(gdf,x, y)\n",
    "temp = gpd.tools.reverse_geocode([[x, y]])\n",
    "temp\n",
    "print(f\"location,x: {x}, y: {y}\")\n",
    "print(f\"address: {temp.loc[0, 'address']}\")"
   ],
   "metadata": {
    "collapsed": false,
    "ExecuteTime": {
     "end_time": "2024-09-18T02:34:49.678850Z",
     "start_time": "2024-09-18T02:34:49.666957Z"
    }
   },
   "id": "b7c1d2388c50cb06",
   "execution_count": 6
  },
  {
   "cell_type": "code",
   "outputs": [],
   "source": [],
   "metadata": {
    "collapsed": false
   },
   "id": "d1c8951db3da2916"
  }
 ],
 "metadata": {
  "kernelspec": {
   "display_name": "Python 3",
   "language": "python",
   "name": "python3"
  },
  "language_info": {
   "codemirror_mode": {
    "name": "ipython",
    "version": 2
   },
   "file_extension": ".py",
   "mimetype": "text/x-python",
   "name": "python",
   "nbconvert_exporter": "python",
   "pygments_lexer": "ipython2",
   "version": "2.7.6"
  }
 },
 "nbformat": 4,
 "nbformat_minor": 5
}
