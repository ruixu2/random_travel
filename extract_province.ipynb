{
 "cells": [
  {
   "cell_type": "code",
   "execution_count": 1,
   "metadata": {},
   "outputs": [],
   "source": [
    "import geopandas as gpd"
   ]
  },
  {
   "cell_type": "code",
   "execution_count": 8,
   "metadata": {},
   "outputs": [
    {
     "data": {
      "text/plain": [
       "10         浙江省\n",
       "11         安徽省\n",
       "12         福建省\n",
       "13         江西省\n",
       "14         山东省\n",
       "15         河南省\n",
       "16         湖北省\n",
       "17         湖南省\n",
       "18         广东省\n",
       "19     广西壮族自治区\n",
       "20         海南省\n",
       "21         重庆市\n",
       "22         四川省\n",
       "23         贵州省\n",
       "24         云南省\n",
       "25       西藏自治区\n",
       "26         陕西省\n",
       "27         甘肃省\n",
       "28         青海省\n",
       "29     宁夏回族自治区\n",
       "30    新疆维吾尔自治区\n",
       "31         台湾省\n",
       "32     香港特别行政区\n",
       "33     澳门特别行政区\n",
       "Name: Name, dtype: object"
      ]
     },
     "execution_count": 8,
     "metadata": {},
     "output_type": "execute_result"
    }
   ],
   "source": [
    "gdf=gpd.read_file(\"./所需文件/中国_行政边界.shp\",encoding=\"gbk\")\n",
    "gdf.Name"
   ]
  },
  {
   "cell_type": "code",
   "execution_count": 6,
   "metadata": {},
   "outputs": [],
   "source": [
    "province_name_list=gdf['Name']\n",
    "for item in province_name_list:\n",
    "    temp=gdf[gdf['Name']==item]\n",
    "    temp.to_file(f\"./所需文件/{item}.shp\")"
   ]
  }
 ],
 "metadata": {
  "kernelspec": {
   "display_name": "py311",
   "language": "python",
   "name": "python3"
  },
  "language_info": {
   "codemirror_mode": {
    "name": "ipython",
    "version": 3
   },
   "file_extension": ".py",
   "mimetype": "text/x-python",
   "name": "python",
   "nbconvert_exporter": "python",
   "pygments_lexer": "ipython3",
   "version": "3.11.9"
  }
 },
 "nbformat": 4,
 "nbformat_minor": 2
}
